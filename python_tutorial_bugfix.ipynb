{
  "nbformat": 4,
  "nbformat_minor": 0,
  "metadata": {
    "colab": {
      "provenance": [],
      "include_colab_link": true
    },
    "kernelspec": {
      "name": "python3",
      "display_name": "Python 3"
    },
    "language_info": {
      "name": "python"
    }
  },
  "cells": [
    {
      "cell_type": "markdown",
      "metadata": {
        "id": "view-in-github",
        "colab_type": "text"
      },
      "source": [
        "<a href=\"https://colab.research.google.com/github/22fi051/netpro2024/blob/main/python_tutorial_bugfix.ipynb\" target=\"_parent\"><img src=\"https://colab.research.google.com/assets/colab-badge.svg\" alt=\"Open In Colab\"/></a>"
      ]
    },
    {
      "cell_type": "markdown",
      "source": [
        "それぞれの問題には、バグが含まれており、受講者はそのバグを修正する必要があります。"
      ],
      "metadata": {
        "id": "pCDxVVwQ2vPK"
      }
    },
    {
      "cell_type": "markdown",
      "source": [
        "### 1. Hello world"
      ],
      "metadata": {
        "id": "9OS7pNWiagRa"
      }
    },
    {
      "cell_type": "code",
      "execution_count": 1,
      "metadata": {
        "colab": {
          "base_uri": "https://localhost:8080/"
        },
        "id": "WzcJyOFzaegU",
        "outputId": "ce39d3c0-0759-4e62-9d86-82bf4442b8dc"
      },
      "outputs": [
        {
          "output_type": "stream",
          "name": "stdout",
          "text": [
            "Hello, World!\n"
          ]
        }
      ],
      "source": [
        "# 期待する出力: Hello, World!\n",
        "print(\"Hello, World!\")"
      ]
    },
    {
      "cell_type": "markdown",
      "source": [
        "### 2. 足し算"
      ],
      "metadata": {
        "id": "xXzRzWdh3ZfK"
      }
    },
    {
      "cell_type": "code",
      "source": [
        "# 期待する出力: 15\n",
        "a = 5\n",
        "b = 10\n",
        "print(\"a + b = \" + str(a + b))"
      ],
      "metadata": {
        "colab": {
          "base_uri": "https://localhost:8080/"
        },
        "id": "SNw2N3X_2Iki",
        "outputId": "23343c0e-5a2c-41e8-ffdc-537747779ac0"
      },
      "execution_count": 4,
      "outputs": [
        {
          "output_type": "stream",
          "name": "stdout",
          "text": [
            "a + b = 15\n"
          ]
        }
      ]
    },
    {
      "cell_type": "markdown",
      "source": [
        "### 3. リストの長さ"
      ],
      "metadata": {
        "id": "9iFm-LUV3fib"
      }
    },
    {
      "cell_type": "code",
      "source": [
        "# 期待する出力: 5\n",
        "my_list = [1, 2, 3, 4, 5]\n",
        "print(len(my_list))\n"
      ],
      "metadata": {
        "colab": {
          "base_uri": "https://localhost:8080/"
        },
        "id": "BndrltqW2JcO",
        "outputId": "4f97759c-85f5-422c-ecb5-ac394c3c423d"
      },
      "execution_count": 5,
      "outputs": [
        {
          "output_type": "stream",
          "name": "stdout",
          "text": [
            "5\n"
          ]
        }
      ]
    },
    {
      "cell_type": "markdown",
      "source": [
        "### 4. ループ"
      ],
      "metadata": {
        "id": "1Y7TFiHD3ibV"
      }
    },
    {
      "cell_type": "code",
      "source": [
        "# 期待する出力:\n",
        "# 1\n",
        "# 2\n",
        "# 3\n",
        "# 4\n",
        "# 5\n",
        "for i in range(1,6):\n",
        "    print(i)"
      ],
      "metadata": {
        "colab": {
          "base_uri": "https://localhost:8080/"
        },
        "id": "BHtBr1Ok2PaK",
        "outputId": "72c42515-a892-4a2e-d08f-385c07e3622a"
      },
      "execution_count": 6,
      "outputs": [
        {
          "output_type": "stream",
          "name": "stdout",
          "text": [
            "1\n",
            "2\n",
            "3\n",
            "4\n",
            "5\n"
          ]
        }
      ]
    },
    {
      "cell_type": "markdown",
      "source": [
        "### 5. 条件分岐"
      ],
      "metadata": {
        "id": "lixdWWhb2W9D"
      }
    },
    {
      "cell_type": "code",
      "source": [
        "# 期待する出力: b is greater than a\n",
        "a = 5\n",
        "b = 10\n",
        "if a > b:\n",
        "    print(\"a is greater than b\")\n",
        "else:\n",
        "    print(\"b is greater than a\")"
      ],
      "metadata": {
        "colab": {
          "base_uri": "https://localhost:8080/"
        },
        "id": "JfQtyqx32RoO",
        "outputId": "bcb972e4-ad10-4728-d669-99cd49c46744"
      },
      "execution_count": 7,
      "outputs": [
        {
          "output_type": "stream",
          "name": "stdout",
          "text": [
            "b is greater than a\n"
          ]
        }
      ]
    },
    {
      "cell_type": "markdown",
      "source": [
        "### 6. 関数の定義"
      ],
      "metadata": {
        "id": "_PyGdDCS2aff"
      }
    },
    {
      "cell_type": "code",
      "source": [
        "# 期待する出力: Hello, Alice!\n",
        "def greet(name):\n",
        "    print(\"Hello, \" + name + \"!\")\n",
        "\n",
        "greet(\"Alice\")"
      ],
      "metadata": {
        "colab": {
          "base_uri": "https://localhost:8080/"
        },
        "id": "OkLwiGOO2ULY",
        "outputId": "d7059a63-2178-4687-846f-75cf8381fce9"
      },
      "execution_count": 8,
      "outputs": [
        {
          "output_type": "stream",
          "name": "stdout",
          "text": [
            "Hello, Alice!\n"
          ]
        }
      ]
    },
    {
      "cell_type": "markdown",
      "source": [
        "### 7. 辞書の応用"
      ],
      "metadata": {
        "id": "MRYu8qVm2fCl"
      }
    },
    {
      "cell_type": "code",
      "source": [
        "# 期待する出力: 25\n",
        "person = {\"name\": \"Alice\", \"age\": 25}\n",
        "print(person[\"age\"])"
      ],
      "metadata": {
        "colab": {
          "base_uri": "https://localhost:8080/"
        },
        "id": "afHp3tgB2gvC",
        "outputId": "c01f566f-06e2-439a-e86e-1faec74853fe"
      },
      "execution_count": 9,
      "outputs": [
        {
          "output_type": "stream",
          "name": "stdout",
          "text": [
            "25\n"
          ]
        }
      ]
    },
    {
      "cell_type": "markdown",
      "source": [
        "### 8. リスト取得"
      ],
      "metadata": {
        "id": "1_84xdKi3G8g"
      }
    },
    {
      "cell_type": "code",
      "source": [
        "# 期待する出力: 3\n",
        "numbers = [1, 2, 3, 4, 5]\n",
        "print(numbers[2])"
      ],
      "metadata": {
        "colab": {
          "base_uri": "https://localhost:8080/"
        },
        "id": "3NBGQv2f3GlT",
        "outputId": "9e5a02bb-ba8b-45db-f598-28629fa6cd28"
      },
      "execution_count": 10,
      "outputs": [
        {
          "output_type": "stream",
          "name": "stdout",
          "text": [
            "3\n"
          ]
        }
      ]
    },
    {
      "cell_type": "markdown",
      "source": [
        "### 9. 文字列のフォーマット"
      ],
      "metadata": {
        "id": "X69ntkwY3GaB"
      }
    },
    {
      "cell_type": "code",
      "source": [
        "# 期待する出力: My name is Alice and I am 25 years old.\n",
        "name = \"Alice\"\n",
        "age = 25\n",
        "print(\"My name is {} and I am {} years old.\".format(name, age))\n"
      ],
      "metadata": {
        "colab": {
          "base_uri": "https://localhost:8080/"
        },
        "id": "G9xEsPmU3GFx",
        "outputId": "6ad3b99d-8f32-4cf1-f5b4-6140eb302700"
      },
      "execution_count": 11,
      "outputs": [
        {
          "output_type": "stream",
          "name": "stdout",
          "text": [
            "My name is Alice and I am 25 years old.\n"
          ]
        }
      ]
    }
  ]
}